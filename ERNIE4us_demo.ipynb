{
 "cells": [
  {
   "cell_type": "markdown",
   "metadata": {},
   "source": [
    "# Demonstrate loading and using ERNIE4us"
   ]
  },
  {
   "cell_type": "markdown",
   "metadata": {},
   "source": [
    "## Demo loading the ERNIE2 model and preparing inputs"
   ]
  },
  {
   "cell_type": "code",
   "execution_count": null,
   "metadata": {
    "pycharm": {
     "is_executing": false
    }
   },
   "outputs": [],
   "source": [
    "import dataclasses\n",
    "from ernie4us import *"
   ]
  },
  {
   "cell_type": "code",
   "execution_count": null,
   "metadata": {
    "pycharm": {
     "is_executing": false,
     "name": "#%%\n"
    }
   },
   "outputs": [],
   "source": [
    "tf.__version__"
   ]
  },
  {
   "cell_type": "code",
   "execution_count": null,
   "metadata": {
    "pycharm": {
     "is_executing": false
    }
   },
   "outputs": [],
   "source": [
    "ernie_input_builder, ernie_model = load_ernie_model(ERNIE_BASE_EN, \"./model_artifacts\")"
   ]
  },
  {
   "cell_type": "markdown",
   "metadata": {},
   "source": [
    "## Demo ERNIE tensorflow 2 usages"
   ]
  },
  {
   "cell_type": "code",
   "execution_count": null,
   "metadata": {
    "pycharm": {
     "is_executing": false
    }
   },
   "outputs": [],
   "source": [
    "ernie_model.max_seq_length"
   ]
  },
  {
   "cell_type": "code",
   "execution_count": null,
   "metadata": {
    "pycharm": {
     "is_executing": false,
     "name": "#%%\n"
    }
   },
   "outputs": [],
   "source": [
    "text_a = \"ERNIE for the rest of us\"\n",
    "text_b = \"thank you ERNIE\"\n",
    "\n",
    "record = ernie_input_builder.build(text_a, text_b,task_id=0)\n",
    "for key, item in dataclasses.asdict(record).items():\n",
    "    print(f'{key}', item.shape, '=>', np.reshape(item, (ernie_model.max_seq_length,))[:20])"
   ]
  },
  {
   "cell_type": "code",
   "execution_count": null,
   "metadata": {
    "pycharm": {
     "is_executing": false
    }
   },
   "outputs": [],
   "source": [
    "type(record), [(v.shape, v.dtype) for v in record.as_tuple()]"
   ]
  },
  {
   "cell_type": "code",
   "execution_count": null,
   "metadata": {
    "pycharm": {
     "is_executing": false,
     "name": "#%%\n"
    }
   },
   "outputs": [],
   "source": [
    "outputs = ernie_model(record.as_tuple())\n",
    "outputs = Ernie2Output(sequence_features=outputs[0], classification_features=outputs[1])\n",
    "outputs.classification_features.shape, outputs.sequence_features.shape"
   ]
  },
  {
   "cell_type": "code",
   "execution_count": null,
   "metadata": {
    "pycharm": {
     "is_executing": false
    }
   },
   "outputs": [],
   "source": [
    "import time\n",
    "\n",
    "ernie_inputs = record.as_tuple()\n",
    "st = time.time()\n",
    "n_times = 20\n",
    "for _ in range(n_times):\n",
    "    ernie_model(ernie_inputs)\n",
    "dt = time.time() - st\n",
    "print(f\"finished in {dt}s. avg {dt / n_times}s/request\")"
   ]
  },
  {
   "cell_type": "code",
   "execution_count": null,
   "metadata": {
    "pycharm": {
     "is_executing": false,
     "name": "#%%\n"
    }
   },
   "outputs": [],
   "source": [
    "num_class = 3\n",
    "with tf.name_scope(\"classifier\"):\n",
    "    dense_layer = tf.keras.layers.Dense(num_class)\n",
    "    \n",
    "    def classifier(ernie_inputs):\n",
    "        _, classification_features = ernie_model(ernie_inputs)\n",
    "        return dense_layer(classification_features)"
   ]
  },
  {
   "cell_type": "code",
   "execution_count": null,
   "metadata": {
    "pycharm": {
     "is_executing": false
    }
   },
   "outputs": [],
   "source": [
    "outputs = classifier(record.as_tuple())\n",
    "outputs"
   ]
  },
  {
   "cell_type": "markdown",
   "metadata": {
    "pycharm": {
     "name": "#%% md\n"
    }
   },
   "source": [
    "## Demonstrate Keras model"
   ]
  },
  {
   "cell_type": "code",
   "execution_count": null,
   "metadata": {
    "pycharm": {
     "is_executing": false
    }
   },
   "outputs": [],
   "source": [
    "ernie_inputs, ernie_outputs = ernie_model.create_keras_invocation()\n",
    "classifier_layer = tf.keras.layers.Dense(num_class)\n",
    "logits = classifier_layer(ernie_outputs.classification_features)\n",
    "keras_model = tf.keras.Model(inputs=ernie_inputs.as_tuple(), outputs=[logits])\n",
    "keras_model.compile()\n",
    "keras_model.summary()"
   ]
  },
  {
   "cell_type": "code",
   "execution_count": null,
   "metadata": {
    "pycharm": {
     "is_executing": false
    }
   },
   "outputs": [],
   "source": [
    "tf.saved_model.save(keras_model, '/tmp/ernie_classifier')"
   ]
  },
  {
   "cell_type": "code",
   "execution_count": null,
   "metadata": {
    "pycharm": {
     "name": "#%%\n"
    }
   },
   "outputs": [],
   "source": [
    "!ls -lhR /tmp/ernie_classifier"
   ]
  }
 ],
 "metadata": {
  "kernelspec": {
   "display_name": "Python 3",
   "language": "python",
   "name": "python3"
  },
  "language_info": {
   "codemirror_mode": {
    "name": "ipython",
    "version": 3
   },
   "file_extension": ".py",
   "mimetype": "text/x-python",
   "name": "python",
   "nbconvert_exporter": "python",
   "pygments_lexer": "ipython3",
   "version": "3.7.7"
  },
  "pycharm": {
   "stem_cell": {
    "cell_type": "raw",
    "metadata": {
     "collapsed": false
    },
    "source": []
   }
  }
 },
 "nbformat": 4,
 "nbformat_minor": 2
}
